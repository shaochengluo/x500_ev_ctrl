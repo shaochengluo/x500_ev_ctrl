


import numpy as np
import pandas as pd
import matplotlib.pyplot as plt

# Display plots inline
%matplotlib inline



# Path to your VICON CSV file
# Load the CSV file
df = pd.read_csv("/home/cpsl/px4_ws/attack3_log36/csv_out/vicon__x500_7__x500_7.csv")

# Show basic info
print("Data summary:")
df.info()

# Display first few rows
df.head()



# Extract ENU position components
x_e = df["transform.translation.x"].to_numpy()  # East
y_e = df["transform.translation.y"].to_numpy()  # North
z_e = df["transform.translation.z"].to_numpy()  # Up

# Convert to NED
x_n = y_e              # North
y_n = x_e              # East
z_n = -z_e             # Down

# Add to DataFrame
df["pos_north"] = x_n
df["pos_east"]  = y_n
df["pos_down"]  = z_n

print("✅ Converted ENU → NED position.")
df[["pos_north", "pos_east", "pos_down"]].head()



# --- Extract Vicon quaternion columns (FLU in ENU world) ---
qx = df["transform.rotation.x"].to_numpy(dtype=float)
qy = df["transform.rotation.y"].to_numpy(dtype=float)
qz = df["transform.rotation.z"].to_numpy(dtype=float)
qw = df["transform.rotation.w"].to_numpy(dtype=float)

# (Recommended) normalize to guard against tiny numeric drift
qnorm = np.sqrt(qx*qx + qy*qy + qz*qz + qw*qw)
good  = qnorm > 0
qx[good] /= qnorm[good]; qy[good] /= qnorm[good]
qz[good] /= qnorm[good]; qw[good] /= qnorm[good]



import numpy as np

# ----- fixed transforms -----
Cw = np.array([[0, 1, 0],   # ENU -> NED (world)
               [1, 0, 0],
               [0, 0,-1]], dtype=float)

Cb = np.array([[ 1, 0, 0],  # FLU -> FRD (body) = 180° roll
               [ 0,-1, 0],
               [ 0, 0,-1]], dtype=float)

def quat_array_to_rotmat(qx, qy, qz, qw):
    """
    qx,qy,qz,qw: shape (N,) arrays
    return: R of shape (N,3,3) mapping FLU to ENU
    """
    x, y, z, w = qx, qy, qz, qw
    xx, yy, zz = x*x, y*y, z*z
    xy, xz, yz = x*y, x*z, y*z
    wx, wy, wz = w*x, w*y, w*z

    R = np.empty((x.shape[0], 3, 3), dtype=float)
    R[:,0,0] = 1 - 2*(yy+zz)
    R[:,0,1] = 2*(xy - wz)
    R[:,0,2] = 2*(xz + wy)

    R[:,1,0] = 2*(xy + wz)
    R[:,1,1] = 1 - 2*(xx+zz)
    R[:,1,2] = 2*(yz - wx)

    R[:,2,0] = 2*(xz - wy)
    R[:,2,1] = 2*(yz + wx)
    R[:,2,2] = 1 - 2*(xx+yy)
    return R

# --- your quaternion columns (1D arrays) ---
# qx,qy,qz,qw = df["...x"].to_numpy(), ...

# Build FLU->ENU rotation, shape (N,3,3)
R_enu = quat_array_to_rotmat(qx, qy, qz, qw)

# ENU->NED (world) and FLU->FRD (body) flips:
# result is FRD->NED rotation (what PX4 uses)
R_ned = np.einsum('ij,njk,kl->nil', Cw, R_enu, Cb.T)  # (N,3,3)

# Extract NED Euler (yaw-pitch-roll from R_ned)
# ZYX convention (yaw about +Z_N, pitch about +Y_N, roll about +X_N)
pitch = np.arcsin(np.clip(-R_ned[:,2,0], -1.0, 1.0))
roll  = np.arctan2(R_ned[:,2,1], R_ned[:,2,2])
yaw   = np.arctan2(R_ned[:,1,0], R_ned[:,0,0])

roll_deg  = np.degrees(roll)
pitch_deg = np.degrees(pitch)
yaw_deg   = np.degrees(yaw)



import numpy as np
import matplotlib.pyplot as plt

time_s = df["t_rel"].to_numpy()
north  = df["pos_north"].to_numpy()
east   = df["pos_east"].to_numpy()
down   = df["pos_down"].to_numpy()

# First 10 s window (works even if t_rel doesn't start at 0)
t0 = float(time_s[0])
mask10 = (time_s - t0) <= 10.0
if not np.any(mask10):     # fallback if trace is shorter than 10 s
    mask10 = np.ones_like(time_s, dtype=bool)

# Per-axis means over the first 10 s
mN = float(np.nanmean(north[mask10]))
mE = float(np.nanmean(east[mask10]))
mD = float(np.nanmean(down[mask10]))

# Demean each axis
north_dm = north - mN
east_dm  = east  - mE
down_dm  = down  - mD

# Optional: print them too
print(f"First 10s means — North: {mN:.3f} m, East: {mE:.3f} m, Down: {mD:.3f} m")

# Plot
plt.figure(figsize=(10, 4))
plt.plot(time_s, north_dm, label=f"North (m) — mean₀₋₁₀s={mN:.3f}")
plt.plot(time_s, east_dm,  label=f"East (m)  — mean₀₋₁₀s={mE:.3f}")
plt.plot(time_s, down_dm,  label=f"Down (m)  — mean₀₋₁₀s={mD:.3f}")

plt.axhline(0.0, ls='--', lw=0.8, c='k', alpha=0.7)  # zero baseline after demeaning
plt.xlabel("Time (s)")
plt.ylabel("Position (m) (demeaned by first 10 s mean)")
plt.title("VICON Position (NED) — demeaned by first 10 s means")
plt.grid(True)
plt.legend()
plt.tight_layout()
plt.show()



plt.figure(figsize=(10,4))
plt.plot(time_s, roll_deg,  label="Roll (°)")
plt.plot(time_s, pitch_deg, label="Pitch (°)")
plt.plot(time_s, yaw_deg,   label="Yaw (°)")
plt.ylim([-10,10])
plt.xlabel("Time (s)"); plt.ylabel("Angle (°)")
plt.title("Euler Angles (NED) vs Time")
plt.grid(True); plt.legend(); plt.tight_layout(); plt.show()



import numpy as np

# --- Build delta (demeaned) Euler angles using the first 10 s ---
time_s    = np.asarray(time_s).ravel()
roll_deg  = np.asarray(roll_deg).ravel()
pitch_deg = np.asarray(pitch_deg).ravel()
yaw_deg   = np.asarray(yaw_deg).ravel()

# Align lengths (safety)
N = min(len(time_s), len(roll_deg), len(pitch_deg), len(yaw_deg))
time_s, roll_deg, pitch_deg, yaw_deg = time_s[:N], roll_deg[:N], pitch_deg[:N], yaw_deg[:N]

# First-10s window (robust if time doesn't start at 0)
t0 = float(time_s[0])
mask10 = (time_s - t0) <= 10.0
if not np.any(mask10):  # fallback if trace shorter than 10 s
    mask10 = np.ones_like(time_s, dtype=bool)

# Means over first 10 s
m_roll  = float(np.nanmean(roll_deg[mask10]))
m_pitch = float(np.nanmean(pitch_deg[mask10]))
m_yaw   = float(np.nanmean(yaw_deg[mask10]))

# Delta (demeaned) Euler angles
droll  = roll_deg  - m_roll
dpitch = pitch_deg - m_pitch
dyaw   = yaw_deg   - m_yaw

print(f"First 10 s means — roll: {m_roll:.2f}°, pitch: {m_pitch:.2f}°, yaw: {m_yaw:.2f}°")



plt.figure(figsize=(10,4)) 
plt.plot(time_s, droll,  label="ΔRoll (°)")
plt.plot(time_s, dpitch, label="ΔPitch (°)")
plt.plot(time_s, dyaw,   label="ΔYaw (°)")
plt.axhline(0.0, ls='--', c='k', lw=0.8, alpha=0.6)
plt.ylim(-10, 10)
plt.xlabel("Time (s)"); plt.ylabel("Angle (°)")
plt.title("Δ Euler Angles (NED), demeaned by first 10 s")
plt.grid(True); plt.legend(); plt.tight_layout(); plt.show()









import re
import numpy as np
import pandas as pd
import matplotlib.pyplot as plt
import ast

# --- Load the CSV file ---
df = pd.read_csv("/home/cpsl/px4_ws/attack3_log36/csv_out/cpsl_uav_7__fmu__out__vehicle_odometry.csv")

# Show basic info
print("Data summary:")
df.info()

# Display first few rows
df.head()






# --- Robust array parser for PX4-style fields ---
def parse_array_column(series):
    arr_list = []
    for s in series:
        if not isinstance(s, str):
            arr_list.append([np.nan, np.nan, np.nan])
            continue
        # Clean up brackets and spacing
        s_clean = s.strip()
        s_clean = s_clean.strip('[]')              # remove brackets
        s_clean = re.sub(r'\s+', ',', s_clean)     # replace spaces with commas
        s_clean = re.sub(r',+', ',', s_clean)      # remove duplicate commas
        s_clean = s_clean.strip(',')               # trim leading/trailing commas
        try:
            arr = np.array([float(x) for x in s_clean.split(',')])
        except ValueError:
            arr = np.array([np.nan, np.nan, np.nan])
        arr_list.append(arr)
    return np.vstack(arr_list)

# --- Parse array fields ---
pos = parse_array_column(df["position"])
quat = parse_array_column(df["q"])
vel = parse_array_column(df["velocity"])
angvel = parse_array_column(df["angular_velocity"])

# --- Quaternion → Euler (NED frame, PX4 convention) ---
qx, qy, qz, qw = quat[:,0], quat[:,1], quat[:,2], quat[:,3]

roll  = np.arctan2(2*(qw*qx + qy*qz), 1 - 2*(qx**2 + qy**2))
pitch = np.arcsin(2*(qw*qy - qz*qx))
yaw   = np.arctan2(2*(qw*qz + qx*qy), 1 - 2*(qy**2 + qz**2))

roll_deg, pitch_deg, yaw_deg = np.degrees(roll), np.degrees(pitch), np.degrees(yaw)

# --- Add parsed columns ---
df["x"], df["y"], df["z"] = pos[:,0], pos[:,1], pos[:,2]
df["roll_deg"], df["pitch_deg"], df["yaw_deg"] = roll_deg, pitch_deg, yaw_deg
df["wx"], df["wy"], df["wz"] = angvel[:,0], angvel[:,1], angvel[:,2]

# --- Time base ---
t = df["t_rel"]




# --- Plot 1: Position ---
plt.figure(figsize=(10,4))
plt.plot(t, df["x"], label="x (m)")
plt.plot(t, df["y"], label="y (m)")
plt.plot(t, df["z"], label="z (m)")
plt.xlabel("Time (s)")
plt.ylabel("Position (m)")
plt.title("Position vs Time (Vehicle Odometry)")
plt.legend()
plt.grid(True)
plt.tight_layout()
plt.show()




# --- Plot 2: Euler angles ---
plt.figure(figsize=(10,4))
plt.plot(t, df["roll_deg"], label="Roll (°)")
plt.plot(t, df["pitch_deg"], label="Pitch (°)")
plt.plot(t, df["yaw_deg"], label="Yaw (°)")
plt.xlabel("Time (s)")
plt.ylabel("Angle (°)")
plt.title("Euler Angles vs Time (Vehicle Odometry)")
plt.ylim(-10, 10)
plt.legend()
plt.grid(True)
plt.tight_layout()
plt.show()




# --- Plot 3: Angular rates ---
plt.figure(figsize=(10,4))
plt.plot(t, df["wx"], label="wx (rad/s)")
plt.plot(t, df["wy"], label="wy (rad/s)")
plt.plot(t, df["wz"], label="wz (rad/s)")
plt.xlabel("Time (s)")
plt.ylabel("Angular Rate (rad/s)")
plt.title("Angular Velocity vs Time")
plt.legend()
plt.grid(True)
plt.tight_layout()
plt.show()
























